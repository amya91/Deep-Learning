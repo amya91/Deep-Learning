{
 "cells": [
  {
   "cell_type": "code",
   "execution_count": 1,
   "metadata": {
    "collapsed": true
   },
   "outputs": [],
   "source": [
    "import os\n",
    "import pandas as pd\n",
    "import numpy as np\n",
    "import matplotlib.pyplot as plt"
   ]
  },
  {
   "cell_type": "code",
   "execution_count": 2,
   "metadata": {
    "collapsed": true
   },
   "outputs": [],
   "source": [
    "import warnings\n",
    "warnings.filterwarnings('ignore')"
   ]
  },
  {
   "cell_type": "code",
   "execution_count": 3,
   "metadata": {
    "collapsed": true
   },
   "outputs": [],
   "source": [
    "#reading u.data\n",
    "df = pd.read_csv('ml-100k/u.data', sep='\\t', names=['user_id', 'item_id', 'rating', 'timestamp'])\n",
    "user_cnt = df.user_id.unique().shape[0]\n",
    "item_cnt = df.item_id.unique().shape[0]"
   ]
  },
  {
   "cell_type": "code",
   "execution_count": 4,
   "metadata": {
    "collapsed": false
   },
   "outputs": [],
   "source": [
    "#creating the user-movie matrix\n",
    "A = np.zeros((user_cnt, item_cnt))\n",
    "for row in df.itertuples():\n",
    "    A[row[1]-1, row[2]-1] = row[3] "
   ]
  },
  {
   "cell_type": "markdown",
   "metadata": {
    "collapsed": true
   },
   "source": [
    "### Plotting Histograms"
   ]
  },
  {
   "cell_type": "code",
   "execution_count": 5,
   "metadata": {
    "collapsed": false,
    "scrolled": true
   },
   "outputs": [
    {
     "data": {
      "image/png": "[encoded data removed]",
      "text/plain": [
       "<matplotlib.figure.Figure at 0x7fc7944c8438>"
      ]
     },
     "metadata": {},
     "output_type": "display_data"
    },
    {
     "data": {
      "image/png": "[encoded data removed]",
      "text/plain": [
       "<matplotlib.figure.Figure at 0x7fc7a431bbe0>"
      ]
     },
     "metadata": {},
     "output_type": "display_data"
    }
   ],
   "source": [
    "movie_ratings = df.groupby(by = ['item_id'])['timestamp'].count()\n",
    "plt.hist(movie_ratings)\n",
    "plt.ylabel('Number of movies')\n",
    "plt.xlabel('Number of ratings')\n",
    "plt.title('Distribution of Number of Ratings for movies ')\n",
    "plt.show()\n",
    "\n",
    "user_ratings = df.groupby(by = ['user_id'])['timestamp'].count()\n",
    "plt.hist(user_ratings)\n",
    "plt.ylabel('Number of users')\n",
    "plt.xlabel('Number of ratings')\n",
    "plt.title('Distribution of Number of Ratings for users ')\n",
    "plt.show()"
   ]
  },
  {
   "cell_type": "code",
   "execution_count": 6,
   "metadata": {
    "collapsed": false
   },
   "outputs": [],
   "source": [
    "# reading the ua.base data and recreating the user-movie matrix\n",
    "\n",
    "df = pd.read_csv('ml-100k/ua.base', sep='\\t', names=['user_id', 'item_id', 'rating', 'timestamp'])\n",
    "user_cnt = max(df['user_id'])\n",
    "item_cnt = max(df['item_id'])\n",
    "\n",
    "A = np.zeros((user_cnt, item_cnt))\n",
    "for row in df.itertuples():\n",
    "    A[row[1]-1, row[2]-1] = row[3] \n"
   ]
  },
  {
   "cell_type": "markdown",
   "metadata": {},
   "source": [
    "### Baseline Recommender"
   ]
  },
  {
   "cell_type": "code",
   "execution_count": 7,
   "metadata": {
    "collapsed": false
   },
   "outputs": [],
   "source": [
    "#Calculating mu,bi,bu\n",
    "l2 ,l3 = 25 , 10\n",
    "mu = np.sum(A)/np.sum(A != 0)\n",
    "\n",
    "#creating the bi, bu and bui vectors/matrices\n",
    "bi_n = np.zeros((user_cnt, item_cnt))\n",
    "bi_n[A !=0] = A[A != 0] - mu \n",
    "bi = np.sum(bi_n ,axis = 0) / (l2 + (A != 0).sum(0))\n",
    "bi_mask = np.multiply(np.tile(bi , user_cnt ).reshape(user_cnt,item_cnt), (bi_n != 0) )\n",
    "bu = np.sum(bi_n - bi_mask ,axis = 1) / (l3 + (A != 0).sum(1))\n",
    "bui = np.tile(bi , user_cnt ).reshape(user_cnt,item_cnt) + np.tile(bu , item_cnt ).reshape(user_cnt,item_cnt , order = 'F') + mu"
   ]
  },
  {
   "cell_type": "code",
   "execution_count": 9,
   "metadata": {
    "collapsed": false
   },
   "outputs": [
    {
     "data": {
      "text/plain": [
       "(943, 1682)"
      ]
     },
     "execution_count": 9,
     "metadata": {},
     "output_type": "execute_result"
    }
   ],
   "source": [
    "#reading ua.test data\n",
    "df2 = pd.read_csv('./ml-100k/ua.test', sep='\\t', names=['user_id', 'item_id', 'rating', 'timestamp'])\n",
    "user_cnt2 = max(df['user_id'])\n",
    "item_cnt2 = max(df['item_id'])\n",
    "\n",
    "test = np.zeros((user_cnt2, item_cnt2))\n",
    "for l in df2.itertuples():\n",
    "    test[l[1]-1, l[2]-1] = l[3]     \n",
    "test.shape"
   ]
  },
  {
   "cell_type": "code",
   "execution_count": 10,
   "metadata": {
    "collapsed": false,
    "scrolled": true
   },
   "outputs": [
    {
     "name": "stdout",
     "output_type": "stream",
     "text": [
      " The rmse for the baseline recommender on the test data is 0.9664817838879252\n"
     ]
    }
   ],
   "source": [
    "#calculating the rmse for the baseline recommender on the test data\n",
    "\n",
    "rmse = (np.sum(np.square(test[test != 0] - bui[test != 0]))/np.sum(test != 0))**0.5\n",
    "print(\" The rmse for the baseline recommender on the test data is {}\".format(rmse))"
   ]
  },
  {
   "cell_type": "markdown",
   "metadata": {},
   "source": [
    "It can be seen that rmse for the baseline recommender matches the rmse from the paper "
   ]
  },
  {
   "cell_type": "markdown",
   "metadata": {},
   "source": [
    "### RMSE plots"
   ]
  },
  {
   "cell_type": "code",
   "execution_count": 11,
   "metadata": {
    "collapsed": false
   },
   "outputs": [],
   "source": [
    "#calculating the average rating for each user\n",
    "avg_user_rat = np.sum(A , axis = 1) / np.sum( (A != 0) , axis = 1)\n",
    "# creating the bins of users based on their average ratings\n",
    "bins = np.histogram(avg_user_rat , bins = 5)"
   ]
  },
  {
   "cell_type": "code",
   "execution_count": 12,
   "metadata": {
    "collapsed": false
   },
   "outputs": [],
   "source": [
    "#calculating the rmse value for each bins using the intervals generated from above\n",
    "rmse_bins = [0,0,0,0,0]\n",
    "\n",
    "bin_m = avg_user_rat > bins[1][4]\n",
    "test_m = test[bin_m,:]\n",
    "bui_m = bui[bin_m,:]\n",
    "rmse_bins[-1] = (np.sum(np.square(test_m[test_m != 0] - bui_m[test_m != 0]))/np.sum(test_m != 0))**0.5\n",
    "\n",
    "bin_m = (avg_user_rat < bins[1][4]) & (avg_user_rat > bins[1][3]) \n",
    "test_m = test[bin_m,:]\n",
    "bui_m = bui[bin_m,:]\n",
    "rmse_bins[-2] = (np.sum(np.square(test_m[test_m != 0] - bui_m[test_m != 0]))/np.sum(test_m != 0))**0.5\n",
    "\n",
    "bin_m = (avg_user_rat < bins[1][3]) & (avg_user_rat > bins[1][2])\n",
    "test_m = test[bin_m,:]\n",
    "bui_m = bui[bin_m,:]\n",
    "rmse_bins[-3] = (np.sum(np.square(test_m[test_m != 0] - bui_m[test_m != 0]))/np.sum(test_m != 0))**0.5\n",
    "\n",
    "bin_m = (avg_user_rat < bins[1][2]) & (avg_user_rat > bins[1][1])\n",
    "test_m = test[bin_m,:]\n",
    "bui_m = bui[bin_m,:]\n",
    "rmse_bins[-4] = (np.sum(np.square(test_m[test_m != 0] - bui_m[test_m != 0]))/np.sum(test_m != 0))**0.5\n",
    "\n",
    "bin_m = avg_user_rat < bins[1][1]\n",
    "test_m = test[bin_m,:]\n",
    "bui_m = bui[bin_m,:]\n",
    "rmse_bins[-5] = (np.sum(np.square(test_m[test_m != 0] - bui_m[test_m != 0]))/np.sum(test_m != 0))**0.5"
   ]
  },
  {
   "cell_type": "code",
   "execution_count": 13,
   "metadata": {
    "collapsed": false
   },
   "outputs": [
    {
     "data": {
      "text/plain": [
       "[1.1088659657864213,\n",
       " 1.1508343053085415,\n",
       " 1.0007633817384749,\n",
       " 0.92640898000641159,\n",
       " 0.88786691733904233]"
      ]
     },
     "execution_count": 13,
     "metadata": {},
     "output_type": "execute_result"
    }
   ],
   "source": [
    "#rmse value for each bin\n",
    "rmse_bins"
   ]
  },
  {
   "cell_type": "code",
   "execution_count": 14,
   "metadata": {
    "collapsed": false
   },
   "outputs": [
    {
     "data": {
      "image/png": "[encoded data removed]",
      "text/plain": [
       "<matplotlib.figure.Figure at 0x7fc7944cec18>"
      ]
     },
     "metadata": {},
     "output_type": "display_data"
    }
   ],
   "source": [
    "width = 1/1.5\n",
    "plt.bar(range(1,6), rmse_bins, width, color=\"blue\")\n",
    "plt.ylabel('rmse')\n",
    "plt.xlabel('bin')\n",
    "plt.show()"
   ]
  },
  {
   "cell_type": "markdown",
   "metadata": {},
   "source": [
    "### Recommender System using Similarity"
   ]
  },
  {
   "cell_type": "code",
   "execution_count": 15,
   "metadata": {
    "collapsed": false,
    "scrolled": true
   },
   "outputs": [],
   "source": [
    "#creating the similarity matrix\n",
    "\n",
    "sim = np.empty(shape = (A.shape[1],A.shape[1]))\n",
    "#running the loop on the upper triangle as the matrix is symmetric\n",
    "for row in list(range(0,A.shape[1]-1)):\n",
    "    for col in list(range(row+1 , A.shape[1])):\n",
    "        #selecting the users common for a particular (i1,i2) movie combination\n",
    "        union = A[:,[row,col]][(A[:,row] != 0) & (A[:,col] != 0)]\n",
    "        if union.size:\n",
    "            ru1 = union[:,0] - avg_user_rat[(A[:,row] != 0) & (A[:,col] != 0)]\n",
    "            ru2 = union[:,1] - avg_user_rat[(A[:,row] != 0) & (A[:,col] != 0)]\n",
    "            sim[row,col] = np.sum(np.multiply(ru1 ,ru2))/ np.sqrt((np.sum(ru1 ** 2) * np.sum(ru2 ** 2)))\n",
    "        else:\n",
    "            #if no users are common between (i1,i2) we set the similarity value to zero\n",
    "            sim[row,col] = 0\n",
    "\n",
    "sim[np.isnan(sim)]=1\n",
    "np.fill_diagonal(sim,1)\n",
    "\n",
    "#setting the lower triangle to the values in the upper triangle\n",
    "i_lower = np.tril_indices(A.shape[0], -1)\n",
    "sim[i_lower] = sim.T[i_lower]\n",
    "      "
   ]
  },
  {
   "cell_type": "markdown",
   "metadata": {},
   "source": [
    "### Knn for different values of k"
   ]
  },
  {
   "cell_type": "code",
   "execution_count": 16,
   "metadata": {
    "collapsed": false
   },
   "outputs": [],
   "source": [
    "#function to calculate rmse for test data and plot the bar graph for different bins\n",
    "def predict_plot(k):\n",
    "    uu = np.nonzero(test)[0]\n",
    "    ii = np.nonzero(test)[1]\n",
    "    test_p = np.zeros((user_cnt2, item_cnt2))\n",
    "    for u,i in zip(uu,ii):\n",
    "        x = np.nonzero(A[u,:])[0]\n",
    "        x = x[x!=i]\n",
    "        k_i = x[np.argsort(sim[i,x])[::-1]][:k]\n",
    "        k_dist = sim[i,x][np.argsort(sim[i,x])[::-1]][:k]\n",
    "        test_p[u,i] = np.sum(np.multiply(A[u,k_i],k_dist))/np.sum(np.absolute(k_dist))\n",
    "        if np.isnan(test_p[u,i]):\n",
    "            test_p[u,i] = np.mean(A[u,:][A[u,:] != 0])\n",
    "\n",
    "    rmse = (np.sum(np.square(test[test != 0] - test_p[test != 0]))/np.sum(test != 0))**0.5\n",
    "    print(\" The rmse for the recommender on the test data for k =\",k,\" is \", rmse)\n",
    "\n",
    "    rmse_bins = [0,0,0,0,0]\n",
    "\n",
    "    bin_m = avg_user_rat > bins[1][4]\n",
    "    test_m = test[bin_m,:]\n",
    "    test_p_m = test_p[bin_m,:]\n",
    "    rmse_bins[-1] = (np.sum(np.square(test_m[test_m != 0] -test_p_m[test_m != 0]))/np.sum(test_m != 0))**0.5\n",
    "    \n",
    "    bin_m = (avg_user_rat < bins[1][4]) & (avg_user_rat > bins[1][3]) \n",
    "    test_m = test[bin_m,:]\n",
    "    test_p_m = test_p[bin_m,:]\n",
    "    rmse_bins[-2] = (np.sum(np.square(test_m[test_m != 0] - test_p_m[test_m != 0]))/np.sum(test_m != 0))**0.5\n",
    "\n",
    "    bin_m = (avg_user_rat < bins[1][3]) & (avg_user_rat > bins[1][2])\n",
    "    test_m = test[bin_m,:]\n",
    "    test_p_m = test_p[bin_m,:]\n",
    "    rmse_bins[-3] = (np.sum(np.square(test_m[test_m != 0] - test_p_m[test_m != 0]))/np.sum(test_m != 0))**0.5\n",
    "\n",
    "    bin_m = (avg_user_rat < bins[1][2]) & (avg_user_rat > bins[1][1])\n",
    "    test_m = test[bin_m,:]\n",
    "    test_p_m = test_p[bin_m,:]\n",
    "    rmse_bins[-4] = (np.sum(np.square(test_m[test_m != 0] - test_p_m[test_m != 0]))/np.sum(test_m != 0))**0.5\n",
    "\n",
    "    bin_m = avg_user_rat < bins[1][1]\n",
    "    test_m = test[bin_m,:]\n",
    "    test_p_m = test_p[bin_m,:]\n",
    "    rmse_bins[-5] = (np.sum(np.square(test_m[test_m != 0] - test_p_m[test_m != 0]))/np.sum(test_m != 0))**0.5\n",
    "    \n",
    "    print(\"\\nRMSE for different bins are \\n\\n\",rmse_bins)\n",
    "\n",
    "    width = 1/1.5\n",
    "    plt.bar(range(1,6), rmse_bins, width, color=\"blue\")\n",
    "    plt.ylabel('rmse')\n",
    "    plt.xlabel('bin')\n",
    "    plt.show()\n",
    "\n"
   ]
  },
  {
   "cell_type": "code",
   "execution_count": 17,
   "metadata": {
    "collapsed": false,
    "scrolled": true
   },
   "outputs": [
    {
     "name": "stdout",
     "output_type": "stream",
     "text": [
      " The rmse for the recommender on the test data for k = 1  is  1.36759963184\n",
      "\n",
      "RMSE for different bins are \n",
      "\n",
      " [1.4723515895993919, 1.5803684958054294, 1.4451331633685072, 1.3123421595956606, 1.0921179013138156]\n"
     ]
    },
    {
     "data": {
      "image/png": "[encoded data removed]",
      "text/plain": [
       "<matplotlib.figure.Figure at 0x7fc79422bda0>"
      ]
     },
     "metadata": {},
     "output_type": "display_data"
    },
    {
     "name": "stdout",
     "output_type": "stream",
     "text": [
      " The rmse for the recommender on the test data for k = 2  is  1.18844500421\n",
      "\n",
      "RMSE for different bins are \n",
      "\n",
      " [1.3628691583797392, 1.4296030891525222, 1.252830035582521, 1.1308273156361468, 0.98675051560292515]\n"
     ]
    },
    {
     "data": {
      "image/png": "[encoded data removed]",
      "text/plain": [
       "<matplotlib.figure.Figure at 0x7fc79422b1d0>"
      ]
     },
     "metadata": {},
     "output_type": "display_data"
    },
    {
     "name": "stdout",
     "output_type": "stream",
     "text": [
      " The rmse for the recommender on the test data for k = 3  is  1.12134362499\n",
      "\n",
      "RMSE for different bins are \n",
      "\n",
      " [1.3324382105857664, 1.3572375991437482, 1.1687398505144919, 1.0760011598010883, 0.93807074092309439]\n"
     ]
    },
    {
     "data": {
      "image/png": "[encoded data removed]",
      "text/plain": [
       "<matplotlib.figure.Figure at 0x7fc794332c88>"
      ]
     },
     "metadata": {},
     "output_type": "display_data"
    },
    {
     "name": "stdout",
     "output_type": "stream",
     "text": [
      " The rmse for the recommender on the test data for k = 5  is  1.07789532643\n",
      "\n",
      "RMSE for different bins are \n",
      "\n",
      " [1.3483902568776351, 1.3401171054166796, 1.1088743994286017, 1.0390081035064542, 0.92095547206645012]\n"
     ]
    },
    {
     "data": {
      "image/png": "[encoded data removed]",
      "text/plain": [
       "<matplotlib.figure.Figure at 0x7fc793d8bc18>"
      ]
     },
     "metadata": {},
     "output_type": "display_data"
    },
    {
     "name": "stdout",
     "output_type": "stream",
     "text": [
      " The rmse for the recommender on the test data for k = 10  is  1.31944333049\n",
      "\n",
      "RMSE for different bins are \n",
      "\n",
      " [1.5530113514299688, 1.8554371724290843, 1.2956669475512084, 1.2167405556846767, 1.6658225866800724]\n"
     ]
    },
    {
     "data": {
      "image/png": "[encoded data removed]",
      "text/plain": [
       "<matplotlib.figure.Figure at 0x7fc793e274a8>"
      ]
     },
     "metadata": {},
     "output_type": "display_data"
    }
   ],
   "source": [
    "predict_plot(1)\n",
    "predict_plot(2)\n",
    "predict_plot(3)\n",
    "predict_plot(5)\n",
    "predict_plot(10)"
   ]
  },
  {
   "cell_type": "markdown",
   "metadata": {},
   "source": [
    "### Optimal Value of K"
   ]
  },
  {
   "cell_type": "markdown",
   "metadata": {},
   "source": [
    "The smallest value of RMSE is obtained for k=5 i.e. 0.77 on test data. This is the optimal value of k from k = {1,2,3,5,10}."
   ]
  }
 ],
 "metadata": {
  "kernelspec": {
   "display_name": "Python [conda env:py35]",
   "language": "python",
   "name": "conda-env-py35-py"
  },
  "language_info": {
   "codemirror_mode": {
    "name": "ipython",
    "version": 3
   },
   "file_extension": ".py",
   "mimetype": "text/x-python",
   "name": "python",
   "nbconvert_exporter": "python",
   "pygments_lexer": "ipython3",
   "version": "3.5.2"
  }
 },
 "nbformat": 4,
 "nbformat_minor": 1
}
